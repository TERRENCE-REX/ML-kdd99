{
 "cells": [
  {
   "cell_type": "code",
   "execution_count": 102,
   "metadata": {
    "collapsed": true
   },
   "outputs": [],
   "source": [
    "import pandas as pd\n"
   ]
  },
  {
   "cell_type": "code",
   "execution_count": 103,
   "metadata": {
    "collapsed": true
   },
   "outputs": [],
   "source": [
    "cols = [\"duration\",\"protocol_type\",\"service\",\"flag\",\"src_bytes\",\n",
    "    \"dst_bytes\",\"land\",\"wrong_fragment\",\"urgent\",\"hot\",\"num_failed_logins\",\n",
    "    \"logged_in\",\"num_compromised\",\"root_shell\",\"su_attempted\",\"num_root\",\n",
    "    \"num_file_creations\",\"num_shells\",\"num_access_files\",\"num_outbound_cmds\",\n",
    "    \"is_host_login\",\"is_guest_login\",\"count\",\"srv_count\",\"serror_rate\",\n",
    "    \"srv_serror_rate\",\"rerror_rate\",\"srv_rerror_rate\",\"same_srv_rate\",\n",
    "    \"diff_srv_rate\",\"srv_diff_host_rate\",\"dst_host_count\",\"dst_host_srv_count\",\n",
    "    \"dst_host_same_srv_rate\",\"dst_host_diff_srv_rate\",\"dst_host_same_src_port_rate\",\n",
    "    \"dst_host_srv_diff_host_rate\",\"dst_host_serror_rate\",\"dst_host_srv_serror_rate\",\n",
    "    \"dst_host_rerror_rate\",\"dst_host_srv_rerror_rate\",\"label\",\"lol\"]"
   ]
  },
  {
   "cell_type": "code",
   "execution_count": 130,
   "metadata": {
    "collapsed": true
   },
   "outputs": [],
   "source": [
    "kdd20 = pd.read_csv(\"kdd20.csv\", header = None, names = cols)\n",
    "#kdd20"
   ]
  },
  {
   "cell_type": "code",
   "execution_count": 105,
   "metadata": {},
   "outputs": [
    {
     "data": {
      "text/html": [
       "<div>\n",
       "<style>\n",
       "    .dataframe thead tr:only-child th {\n",
       "        text-align: right;\n",
       "    }\n",
       "\n",
       "    .dataframe thead th {\n",
       "        text-align: left;\n",
       "    }\n",
       "\n",
       "    .dataframe tbody tr th {\n",
       "        vertical-align: top;\n",
       "    }\n",
       "</style>\n",
       "<table border=\"1\" class=\"dataframe\">\n",
       "  <thead>\n",
       "    <tr style=\"text-align: right;\">\n",
       "      <th></th>\n",
       "      <th>duration</th>\n",
       "      <th>src_bytes</th>\n",
       "      <th>dst_bytes</th>\n",
       "      <th>land</th>\n",
       "      <th>wrong_fragment</th>\n",
       "      <th>urgent</th>\n",
       "      <th>hot</th>\n",
       "      <th>num_failed_logins</th>\n",
       "      <th>logged_in</th>\n",
       "      <th>num_compromised</th>\n",
       "      <th>...</th>\n",
       "      <th>dst_host_srv_count</th>\n",
       "      <th>dst_host_same_srv_rate</th>\n",
       "      <th>dst_host_diff_srv_rate</th>\n",
       "      <th>dst_host_same_src_port_rate</th>\n",
       "      <th>dst_host_srv_diff_host_rate</th>\n",
       "      <th>dst_host_serror_rate</th>\n",
       "      <th>dst_host_srv_serror_rate</th>\n",
       "      <th>dst_host_rerror_rate</th>\n",
       "      <th>dst_host_srv_rerror_rate</th>\n",
       "      <th>lol</th>\n",
       "    </tr>\n",
       "  </thead>\n",
       "  <tbody>\n",
       "    <tr>\n",
       "      <th>count</th>\n",
       "      <td>25192.000000</td>\n",
       "      <td>2.519200e+04</td>\n",
       "      <td>2.519200e+04</td>\n",
       "      <td>25192.000000</td>\n",
       "      <td>25192.000000</td>\n",
       "      <td>25192.00000</td>\n",
       "      <td>25192.000000</td>\n",
       "      <td>25192.000000</td>\n",
       "      <td>25192.000000</td>\n",
       "      <td>25192.000000</td>\n",
       "      <td>...</td>\n",
       "      <td>25192.000000</td>\n",
       "      <td>25192.000000</td>\n",
       "      <td>25192.000000</td>\n",
       "      <td>25192.000000</td>\n",
       "      <td>25192.000000</td>\n",
       "      <td>25192.000000</td>\n",
       "      <td>25192.000000</td>\n",
       "      <td>25192.000000</td>\n",
       "      <td>25192.000000</td>\n",
       "      <td>25192.000000</td>\n",
       "    </tr>\n",
       "    <tr>\n",
       "      <th>mean</th>\n",
       "      <td>305.054104</td>\n",
       "      <td>2.433063e+04</td>\n",
       "      <td>3.491847e+03</td>\n",
       "      <td>0.000079</td>\n",
       "      <td>0.023738</td>\n",
       "      <td>0.00004</td>\n",
       "      <td>0.198039</td>\n",
       "      <td>0.001191</td>\n",
       "      <td>0.394768</td>\n",
       "      <td>0.227850</td>\n",
       "      <td>...</td>\n",
       "      <td>115.063036</td>\n",
       "      <td>0.519791</td>\n",
       "      <td>0.082539</td>\n",
       "      <td>0.147453</td>\n",
       "      <td>0.031844</td>\n",
       "      <td>0.285800</td>\n",
       "      <td>0.279846</td>\n",
       "      <td>0.117800</td>\n",
       "      <td>0.118769</td>\n",
       "      <td>19.487695</td>\n",
       "    </tr>\n",
       "    <tr>\n",
       "      <th>std</th>\n",
       "      <td>2686.555640</td>\n",
       "      <td>2.410805e+06</td>\n",
       "      <td>8.883072e+04</td>\n",
       "      <td>0.008910</td>\n",
       "      <td>0.260221</td>\n",
       "      <td>0.00630</td>\n",
       "      <td>2.154202</td>\n",
       "      <td>0.045418</td>\n",
       "      <td>0.488811</td>\n",
       "      <td>10.417352</td>\n",
       "      <td>...</td>\n",
       "      <td>110.646850</td>\n",
       "      <td>0.448944</td>\n",
       "      <td>0.187191</td>\n",
       "      <td>0.308367</td>\n",
       "      <td>0.110575</td>\n",
       "      <td>0.445316</td>\n",
       "      <td>0.446075</td>\n",
       "      <td>0.305869</td>\n",
       "      <td>0.317333</td>\n",
       "      <td>2.328541</td>\n",
       "    </tr>\n",
       "    <tr>\n",
       "      <th>min</th>\n",
       "      <td>0.000000</td>\n",
       "      <td>0.000000e+00</td>\n",
       "      <td>0.000000e+00</td>\n",
       "      <td>0.000000</td>\n",
       "      <td>0.000000</td>\n",
       "      <td>0.00000</td>\n",
       "      <td>0.000000</td>\n",
       "      <td>0.000000</td>\n",
       "      <td>0.000000</td>\n",
       "      <td>0.000000</td>\n",
       "      <td>...</td>\n",
       "      <td>0.000000</td>\n",
       "      <td>0.000000</td>\n",
       "      <td>0.000000</td>\n",
       "      <td>0.000000</td>\n",
       "      <td>0.000000</td>\n",
       "      <td>0.000000</td>\n",
       "      <td>0.000000</td>\n",
       "      <td>0.000000</td>\n",
       "      <td>0.000000</td>\n",
       "      <td>0.000000</td>\n",
       "    </tr>\n",
       "    <tr>\n",
       "      <th>25%</th>\n",
       "      <td>0.000000</td>\n",
       "      <td>0.000000e+00</td>\n",
       "      <td>0.000000e+00</td>\n",
       "      <td>0.000000</td>\n",
       "      <td>0.000000</td>\n",
       "      <td>0.00000</td>\n",
       "      <td>0.000000</td>\n",
       "      <td>0.000000</td>\n",
       "      <td>0.000000</td>\n",
       "      <td>0.000000</td>\n",
       "      <td>...</td>\n",
       "      <td>10.000000</td>\n",
       "      <td>0.050000</td>\n",
       "      <td>0.000000</td>\n",
       "      <td>0.000000</td>\n",
       "      <td>0.000000</td>\n",
       "      <td>0.000000</td>\n",
       "      <td>0.000000</td>\n",
       "      <td>0.000000</td>\n",
       "      <td>0.000000</td>\n",
       "      <td>18.000000</td>\n",
       "    </tr>\n",
       "    <tr>\n",
       "      <th>50%</th>\n",
       "      <td>0.000000</td>\n",
       "      <td>4.400000e+01</td>\n",
       "      <td>0.000000e+00</td>\n",
       "      <td>0.000000</td>\n",
       "      <td>0.000000</td>\n",
       "      <td>0.00000</td>\n",
       "      <td>0.000000</td>\n",
       "      <td>0.000000</td>\n",
       "      <td>0.000000</td>\n",
       "      <td>0.000000</td>\n",
       "      <td>...</td>\n",
       "      <td>61.000000</td>\n",
       "      <td>0.510000</td>\n",
       "      <td>0.030000</td>\n",
       "      <td>0.000000</td>\n",
       "      <td>0.000000</td>\n",
       "      <td>0.000000</td>\n",
       "      <td>0.000000</td>\n",
       "      <td>0.000000</td>\n",
       "      <td>0.000000</td>\n",
       "      <td>20.000000</td>\n",
       "    </tr>\n",
       "    <tr>\n",
       "      <th>75%</th>\n",
       "      <td>0.000000</td>\n",
       "      <td>2.790000e+02</td>\n",
       "      <td>5.302500e+02</td>\n",
       "      <td>0.000000</td>\n",
       "      <td>0.000000</td>\n",
       "      <td>0.00000</td>\n",
       "      <td>0.000000</td>\n",
       "      <td>0.000000</td>\n",
       "      <td>1.000000</td>\n",
       "      <td>0.000000</td>\n",
       "      <td>...</td>\n",
       "      <td>255.000000</td>\n",
       "      <td>1.000000</td>\n",
       "      <td>0.070000</td>\n",
       "      <td>0.060000</td>\n",
       "      <td>0.020000</td>\n",
       "      <td>1.000000</td>\n",
       "      <td>1.000000</td>\n",
       "      <td>0.000000</td>\n",
       "      <td>0.000000</td>\n",
       "      <td>21.000000</td>\n",
       "    </tr>\n",
       "    <tr>\n",
       "      <th>max</th>\n",
       "      <td>42862.000000</td>\n",
       "      <td>3.817091e+08</td>\n",
       "      <td>5.151385e+06</td>\n",
       "      <td>1.000000</td>\n",
       "      <td>3.000000</td>\n",
       "      <td>1.00000</td>\n",
       "      <td>77.000000</td>\n",
       "      <td>4.000000</td>\n",
       "      <td>1.000000</td>\n",
       "      <td>884.000000</td>\n",
       "      <td>...</td>\n",
       "      <td>255.000000</td>\n",
       "      <td>1.000000</td>\n",
       "      <td>1.000000</td>\n",
       "      <td>1.000000</td>\n",
       "      <td>1.000000</td>\n",
       "      <td>1.000000</td>\n",
       "      <td>1.000000</td>\n",
       "      <td>1.000000</td>\n",
       "      <td>1.000000</td>\n",
       "      <td>21.000000</td>\n",
       "    </tr>\n",
       "  </tbody>\n",
       "</table>\n",
       "<p>8 rows × 39 columns</p>\n",
       "</div>"
      ],
      "text/plain": [
       "           duration     src_bytes     dst_bytes          land  wrong_fragment  \\\n",
       "count  25192.000000  2.519200e+04  2.519200e+04  25192.000000    25192.000000   \n",
       "mean     305.054104  2.433063e+04  3.491847e+03      0.000079        0.023738   \n",
       "std     2686.555640  2.410805e+06  8.883072e+04      0.008910        0.260221   \n",
       "min        0.000000  0.000000e+00  0.000000e+00      0.000000        0.000000   \n",
       "25%        0.000000  0.000000e+00  0.000000e+00      0.000000        0.000000   \n",
       "50%        0.000000  4.400000e+01  0.000000e+00      0.000000        0.000000   \n",
       "75%        0.000000  2.790000e+02  5.302500e+02      0.000000        0.000000   \n",
       "max    42862.000000  3.817091e+08  5.151385e+06      1.000000        3.000000   \n",
       "\n",
       "            urgent           hot  num_failed_logins     logged_in  \\\n",
       "count  25192.00000  25192.000000       25192.000000  25192.000000   \n",
       "mean       0.00004      0.198039           0.001191      0.394768   \n",
       "std        0.00630      2.154202           0.045418      0.488811   \n",
       "min        0.00000      0.000000           0.000000      0.000000   \n",
       "25%        0.00000      0.000000           0.000000      0.000000   \n",
       "50%        0.00000      0.000000           0.000000      0.000000   \n",
       "75%        0.00000      0.000000           0.000000      1.000000   \n",
       "max        1.00000     77.000000           4.000000      1.000000   \n",
       "\n",
       "       num_compromised      ...       dst_host_srv_count  \\\n",
       "count     25192.000000      ...             25192.000000   \n",
       "mean          0.227850      ...               115.063036   \n",
       "std          10.417352      ...               110.646850   \n",
       "min           0.000000      ...                 0.000000   \n",
       "25%           0.000000      ...                10.000000   \n",
       "50%           0.000000      ...                61.000000   \n",
       "75%           0.000000      ...               255.000000   \n",
       "max         884.000000      ...               255.000000   \n",
       "\n",
       "       dst_host_same_srv_rate  dst_host_diff_srv_rate  \\\n",
       "count            25192.000000            25192.000000   \n",
       "mean                 0.519791                0.082539   \n",
       "std                  0.448944                0.187191   \n",
       "min                  0.000000                0.000000   \n",
       "25%                  0.050000                0.000000   \n",
       "50%                  0.510000                0.030000   \n",
       "75%                  1.000000                0.070000   \n",
       "max                  1.000000                1.000000   \n",
       "\n",
       "       dst_host_same_src_port_rate  dst_host_srv_diff_host_rate  \\\n",
       "count                 25192.000000                 25192.000000   \n",
       "mean                      0.147453                     0.031844   \n",
       "std                       0.308367                     0.110575   \n",
       "min                       0.000000                     0.000000   \n",
       "25%                       0.000000                     0.000000   \n",
       "50%                       0.000000                     0.000000   \n",
       "75%                       0.060000                     0.020000   \n",
       "max                       1.000000                     1.000000   \n",
       "\n",
       "       dst_host_serror_rate  dst_host_srv_serror_rate  dst_host_rerror_rate  \\\n",
       "count          25192.000000              25192.000000          25192.000000   \n",
       "mean               0.285800                  0.279846              0.117800   \n",
       "std                0.445316                  0.446075              0.305869   \n",
       "min                0.000000                  0.000000              0.000000   \n",
       "25%                0.000000                  0.000000              0.000000   \n",
       "50%                0.000000                  0.000000              0.000000   \n",
       "75%                1.000000                  1.000000              0.000000   \n",
       "max                1.000000                  1.000000              1.000000   \n",
       "\n",
       "       dst_host_srv_rerror_rate           lol  \n",
       "count              25192.000000  25192.000000  \n",
       "mean                   0.118769     19.487695  \n",
       "std                    0.317333      2.328541  \n",
       "min                    0.000000      0.000000  \n",
       "25%                    0.000000     18.000000  \n",
       "50%                    0.000000     20.000000  \n",
       "75%                    0.000000     21.000000  \n",
       "max                    1.000000     21.000000  \n",
       "\n",
       "[8 rows x 39 columns]"
      ]
     },
     "execution_count": 105,
     "metadata": {},
     "output_type": "execute_result"
    }
   ],
   "source": [
    "kdd20.describe()"
   ]
  },
  {
   "cell_type": "code",
   "execution_count": 106,
   "metadata": {},
   "outputs": [
    {
     "data": {
      "text/plain": [
       "normal             13449\n",
       "neptune             8282\n",
       "ipsweep              710\n",
       "satan                691\n",
       "portsweep            587\n",
       "smurf                529\n",
       "nmap                 301\n",
       "back                 196\n",
       "teardrop             188\n",
       "warezclient          181\n",
       "pod                   38\n",
       "guess_passwd          10\n",
       "warezmaster            7\n",
       "buffer_overflow        6\n",
       "imap                   5\n",
       "rootkit                4\n",
       "phf                    2\n",
       "multihop               2\n",
       "loadmodule             1\n",
       "ftp_write              1\n",
       "land                   1\n",
       "spy                    1\n",
       "Name: label, dtype: int64"
      ]
     },
     "execution_count": 106,
     "metadata": {},
     "output_type": "execute_result"
    }
   ],
   "source": [
    "kdd20['label'].value_counts()"
   ]
  },
  {
   "cell_type": "code",
   "execution_count": 107,
   "metadata": {
    "collapsed": true
   },
   "outputs": [],
   "source": [
    "all_features = [\n",
    "    \"duration\",\"src_bytes\",\n",
    "    \"dst_bytes\",\"land\",\"wrong_fragment\",\"urgent\",\"hot\",\"num_failed_logins\",\n",
    "    \"logged_in\",\"num_compromised\",\"root_shell\",\"su_attempted\",\"num_root\",\n",
    "    \"num_file_creations\",\"num_shells\",\"num_access_files\",\"num_outbound_cmds\",\n",
    "    \"is_host_login\",\"is_guest_login\",\"count\",\"srv_count\",\"serror_rate\",\n",
    "    \"srv_serror_rate\",\"rerror_rate\",\"srv_rerror_rate\",\"same_srv_rate\",\n",
    "    \"diff_srv_rate\",\"srv_diff_host_rate\",\"dst_host_count\",\"dst_host_srv_count\",\n",
    "    \"dst_host_same_srv_rate\",\"dst_host_diff_srv_rate\",\"dst_host_same_src_port_rate\",\n",
    "    \"dst_host_srv_diff_host_rate\",\"dst_host_serror_rate\",\"dst_host_srv_serror_rate\",\n",
    "    \"dst_host_rerror_rate\",\"dst_host_srv_rerror_rate\"]"
   ]
  },
  {
   "cell_type": "code",
   "execution_count": 108,
   "metadata": {
    "collapsed": true
   },
   "outputs": [],
   "source": [
    "to_be_scaled = kdd20[all_features].astype(float)"
   ]
  },
  {
   "cell_type": "code",
   "execution_count": 109,
   "metadata": {
    "collapsed": true
   },
   "outputs": [],
   "source": [
    "from sklearn.neighbors import KNeighborsClassifier"
   ]
  },
  {
   "cell_type": "code",
   "execution_count": 110,
   "metadata": {},
   "outputs": [
    {
     "data": {
      "text/plain": [
       "0             normal\n",
       "1             normal\n",
       "2            neptune\n",
       "3             normal\n",
       "4             normal\n",
       "5            neptune\n",
       "6            neptune\n",
       "7            neptune\n",
       "8            neptune\n",
       "9            neptune\n",
       "10           neptune\n",
       "11           neptune\n",
       "12            normal\n",
       "13       warezclient\n",
       "14           neptune\n",
       "15           neptune\n",
       "16            normal\n",
       "17           ipsweep\n",
       "18            normal\n",
       "19            normal\n",
       "20           neptune\n",
       "21           neptune\n",
       "22            normal\n",
       "23            normal\n",
       "24           neptune\n",
       "25            normal\n",
       "26           neptune\n",
       "27            normal\n",
       "28            normal\n",
       "29            normal\n",
       "            ...     \n",
       "25162         normal\n",
       "25163        neptune\n",
       "25164         normal\n",
       "25165         normal\n",
       "25166        neptune\n",
       "25167         normal\n",
       "25168         normal\n",
       "25169         normal\n",
       "25170        neptune\n",
       "25171        neptune\n",
       "25172        neptune\n",
       "25173         normal\n",
       "25174        neptune\n",
       "25175         normal\n",
       "25176         normal\n",
       "25177         normal\n",
       "25178        neptune\n",
       "25179        neptune\n",
       "25180        neptune\n",
       "25181        ipsweep\n",
       "25182          satan\n",
       "25183          satan\n",
       "25184         normal\n",
       "25185         normal\n",
       "25186         normal\n",
       "25187        neptune\n",
       "25188    warezclient\n",
       "25189        neptune\n",
       "25190        neptune\n",
       "25191        neptune\n",
       "Name: label, Length: 25192, dtype: object"
      ]
     },
     "execution_count": 110,
     "metadata": {},
     "output_type": "execute_result"
    }
   ],
   "source": [
    "labels =kdd20['label'].copy()\n",
    "labels"
   ]
  },
  {
   "cell_type": "code",
   "execution_count": 111,
   "metadata": {},
   "outputs": [
    {
     "data": {
      "text/plain": [
       "normal       13449\n",
       "intrusion    11743\n",
       "Name: label, dtype: int64"
      ]
     },
     "execution_count": 111,
     "metadata": {},
     "output_type": "execute_result"
    }
   ],
   "source": [
    "labels[labels != 'normal'] = 'intrusion'\n",
    "labels.value_counts()"
   ]
  },
  {
   "cell_type": "code",
   "execution_count": 131,
   "metadata": {
    "collapsed": true
   },
   "outputs": [],
   "source": [
    "#from sklearn.preprocessing import MinMaxScaler\n",
    "from sklearn import preprocessing"
   ]
  },
  {
   "cell_type": "code",
   "execution_count": 438,
   "metadata": {},
   "outputs": [],
   "source": [
    "#scaled = to_be_scaled.apply(lambda x: MinMaxScaler().fit_transform(x))"
   ]
  },
  {
   "cell_type": "code",
   "execution_count": 114,
   "metadata": {},
   "outputs": [
    {
     "data": {
      "text/html": [
       "<div>\n",
       "<style>\n",
       "    .dataframe thead tr:only-child th {\n",
       "        text-align: right;\n",
       "    }\n",
       "\n",
       "    .dataframe thead th {\n",
       "        text-align: left;\n",
       "    }\n",
       "\n",
       "    .dataframe tbody tr th {\n",
       "        vertical-align: top;\n",
       "    }\n",
       "</style>\n",
       "<table border=\"1\" class=\"dataframe\">\n",
       "  <thead>\n",
       "    <tr style=\"text-align: right;\">\n",
       "      <th></th>\n",
       "      <th>duration</th>\n",
       "      <th>src_bytes</th>\n",
       "      <th>dst_bytes</th>\n",
       "      <th>land</th>\n",
       "      <th>wrong_fragment</th>\n",
       "      <th>urgent</th>\n",
       "      <th>hot</th>\n",
       "      <th>num_failed_logins</th>\n",
       "      <th>logged_in</th>\n",
       "      <th>num_compromised</th>\n",
       "      <th>...</th>\n",
       "      <th>dst_host_count</th>\n",
       "      <th>dst_host_srv_count</th>\n",
       "      <th>dst_host_same_srv_rate</th>\n",
       "      <th>dst_host_diff_srv_rate</th>\n",
       "      <th>dst_host_same_src_port_rate</th>\n",
       "      <th>dst_host_srv_diff_host_rate</th>\n",
       "      <th>dst_host_serror_rate</th>\n",
       "      <th>dst_host_srv_serror_rate</th>\n",
       "      <th>dst_host_rerror_rate</th>\n",
       "      <th>dst_host_srv_rerror_rate</th>\n",
       "    </tr>\n",
       "  </thead>\n",
       "  <tbody>\n",
       "    <tr>\n",
       "      <th>count</th>\n",
       "      <td>25192.000000</td>\n",
       "      <td>2.519200e+04</td>\n",
       "      <td>25192.000000</td>\n",
       "      <td>25192.000000</td>\n",
       "      <td>25192.000000</td>\n",
       "      <td>25192.00000</td>\n",
       "      <td>25192.000000</td>\n",
       "      <td>25192.000000</td>\n",
       "      <td>25192.000000</td>\n",
       "      <td>25192.000000</td>\n",
       "      <td>...</td>\n",
       "      <td>25192.000000</td>\n",
       "      <td>25192.000000</td>\n",
       "      <td>25192.000000</td>\n",
       "      <td>25192.000000</td>\n",
       "      <td>25192.000000</td>\n",
       "      <td>25192.000000</td>\n",
       "      <td>25192.000000</td>\n",
       "      <td>25192.000000</td>\n",
       "      <td>25192.000000</td>\n",
       "      <td>25192.000000</td>\n",
       "    </tr>\n",
       "    <tr>\n",
       "      <th>mean</th>\n",
       "      <td>0.007117</td>\n",
       "      <td>6.374129e-05</td>\n",
       "      <td>0.000678</td>\n",
       "      <td>0.000079</td>\n",
       "      <td>0.007913</td>\n",
       "      <td>0.00004</td>\n",
       "      <td>0.002572</td>\n",
       "      <td>0.000298</td>\n",
       "      <td>0.394768</td>\n",
       "      <td>0.000258</td>\n",
       "      <td>...</td>\n",
       "      <td>0.715812</td>\n",
       "      <td>0.451228</td>\n",
       "      <td>0.519791</td>\n",
       "      <td>0.082539</td>\n",
       "      <td>0.147453</td>\n",
       "      <td>0.031844</td>\n",
       "      <td>0.285800</td>\n",
       "      <td>0.279846</td>\n",
       "      <td>0.117800</td>\n",
       "      <td>0.118769</td>\n",
       "    </tr>\n",
       "    <tr>\n",
       "      <th>std</th>\n",
       "      <td>0.062679</td>\n",
       "      <td>6.315819e-03</td>\n",
       "      <td>0.017244</td>\n",
       "      <td>0.008910</td>\n",
       "      <td>0.086740</td>\n",
       "      <td>0.00630</td>\n",
       "      <td>0.027977</td>\n",
       "      <td>0.011355</td>\n",
       "      <td>0.488811</td>\n",
       "      <td>0.011784</td>\n",
       "      <td>...</td>\n",
       "      <td>0.388211</td>\n",
       "      <td>0.433909</td>\n",
       "      <td>0.448944</td>\n",
       "      <td>0.187191</td>\n",
       "      <td>0.308367</td>\n",
       "      <td>0.110575</td>\n",
       "      <td>0.445316</td>\n",
       "      <td>0.446075</td>\n",
       "      <td>0.305869</td>\n",
       "      <td>0.317333</td>\n",
       "    </tr>\n",
       "    <tr>\n",
       "      <th>min</th>\n",
       "      <td>0.000000</td>\n",
       "      <td>0.000000e+00</td>\n",
       "      <td>0.000000</td>\n",
       "      <td>0.000000</td>\n",
       "      <td>0.000000</td>\n",
       "      <td>0.00000</td>\n",
       "      <td>0.000000</td>\n",
       "      <td>0.000000</td>\n",
       "      <td>0.000000</td>\n",
       "      <td>0.000000</td>\n",
       "      <td>...</td>\n",
       "      <td>0.000000</td>\n",
       "      <td>0.000000</td>\n",
       "      <td>0.000000</td>\n",
       "      <td>0.000000</td>\n",
       "      <td>0.000000</td>\n",
       "      <td>0.000000</td>\n",
       "      <td>0.000000</td>\n",
       "      <td>0.000000</td>\n",
       "      <td>0.000000</td>\n",
       "      <td>0.000000</td>\n",
       "    </tr>\n",
       "    <tr>\n",
       "      <th>25%</th>\n",
       "      <td>0.000000</td>\n",
       "      <td>0.000000e+00</td>\n",
       "      <td>0.000000</td>\n",
       "      <td>0.000000</td>\n",
       "      <td>0.000000</td>\n",
       "      <td>0.00000</td>\n",
       "      <td>0.000000</td>\n",
       "      <td>0.000000</td>\n",
       "      <td>0.000000</td>\n",
       "      <td>0.000000</td>\n",
       "      <td>...</td>\n",
       "      <td>0.329412</td>\n",
       "      <td>0.039216</td>\n",
       "      <td>0.050000</td>\n",
       "      <td>0.000000</td>\n",
       "      <td>0.000000</td>\n",
       "      <td>0.000000</td>\n",
       "      <td>0.000000</td>\n",
       "      <td>0.000000</td>\n",
       "      <td>0.000000</td>\n",
       "      <td>0.000000</td>\n",
       "    </tr>\n",
       "    <tr>\n",
       "      <th>50%</th>\n",
       "      <td>0.000000</td>\n",
       "      <td>1.152710e-07</td>\n",
       "      <td>0.000000</td>\n",
       "      <td>0.000000</td>\n",
       "      <td>0.000000</td>\n",
       "      <td>0.00000</td>\n",
       "      <td>0.000000</td>\n",
       "      <td>0.000000</td>\n",
       "      <td>0.000000</td>\n",
       "      <td>0.000000</td>\n",
       "      <td>...</td>\n",
       "      <td>1.000000</td>\n",
       "      <td>0.239216</td>\n",
       "      <td>0.510000</td>\n",
       "      <td>0.030000</td>\n",
       "      <td>0.000000</td>\n",
       "      <td>0.000000</td>\n",
       "      <td>0.000000</td>\n",
       "      <td>0.000000</td>\n",
       "      <td>0.000000</td>\n",
       "      <td>0.000000</td>\n",
       "    </tr>\n",
       "    <tr>\n",
       "      <th>75%</th>\n",
       "      <td>0.000000</td>\n",
       "      <td>7.309231e-07</td>\n",
       "      <td>0.000103</td>\n",
       "      <td>0.000000</td>\n",
       "      <td>0.000000</td>\n",
       "      <td>0.00000</td>\n",
       "      <td>0.000000</td>\n",
       "      <td>0.000000</td>\n",
       "      <td>1.000000</td>\n",
       "      <td>0.000000</td>\n",
       "      <td>...</td>\n",
       "      <td>1.000000</td>\n",
       "      <td>1.000000</td>\n",
       "      <td>1.000000</td>\n",
       "      <td>0.070000</td>\n",
       "      <td>0.060000</td>\n",
       "      <td>0.020000</td>\n",
       "      <td>1.000000</td>\n",
       "      <td>1.000000</td>\n",
       "      <td>0.000000</td>\n",
       "      <td>0.000000</td>\n",
       "    </tr>\n",
       "    <tr>\n",
       "      <th>max</th>\n",
       "      <td>1.000000</td>\n",
       "      <td>1.000000e+00</td>\n",
       "      <td>1.000000</td>\n",
       "      <td>1.000000</td>\n",
       "      <td>1.000000</td>\n",
       "      <td>1.00000</td>\n",
       "      <td>1.000000</td>\n",
       "      <td>1.000000</td>\n",
       "      <td>1.000000</td>\n",
       "      <td>1.000000</td>\n",
       "      <td>...</td>\n",
       "      <td>1.000000</td>\n",
       "      <td>1.000000</td>\n",
       "      <td>1.000000</td>\n",
       "      <td>1.000000</td>\n",
       "      <td>1.000000</td>\n",
       "      <td>1.000000</td>\n",
       "      <td>1.000000</td>\n",
       "      <td>1.000000</td>\n",
       "      <td>1.000000</td>\n",
       "      <td>1.000000</td>\n",
       "    </tr>\n",
       "  </tbody>\n",
       "</table>\n",
       "<p>8 rows × 38 columns</p>\n",
       "</div>"
      ],
      "text/plain": [
       "           duration     src_bytes     dst_bytes          land  wrong_fragment  \\\n",
       "count  25192.000000  2.519200e+04  25192.000000  25192.000000    25192.000000   \n",
       "mean       0.007117  6.374129e-05      0.000678      0.000079        0.007913   \n",
       "std        0.062679  6.315819e-03      0.017244      0.008910        0.086740   \n",
       "min        0.000000  0.000000e+00      0.000000      0.000000        0.000000   \n",
       "25%        0.000000  0.000000e+00      0.000000      0.000000        0.000000   \n",
       "50%        0.000000  1.152710e-07      0.000000      0.000000        0.000000   \n",
       "75%        0.000000  7.309231e-07      0.000103      0.000000        0.000000   \n",
       "max        1.000000  1.000000e+00      1.000000      1.000000        1.000000   \n",
       "\n",
       "            urgent           hot  num_failed_logins     logged_in  \\\n",
       "count  25192.00000  25192.000000       25192.000000  25192.000000   \n",
       "mean       0.00004      0.002572           0.000298      0.394768   \n",
       "std        0.00630      0.027977           0.011355      0.488811   \n",
       "min        0.00000      0.000000           0.000000      0.000000   \n",
       "25%        0.00000      0.000000           0.000000      0.000000   \n",
       "50%        0.00000      0.000000           0.000000      0.000000   \n",
       "75%        0.00000      0.000000           0.000000      1.000000   \n",
       "max        1.00000      1.000000           1.000000      1.000000   \n",
       "\n",
       "       num_compromised            ...             dst_host_count  \\\n",
       "count     25192.000000            ...               25192.000000   \n",
       "mean          0.000258            ...                   0.715812   \n",
       "std           0.011784            ...                   0.388211   \n",
       "min           0.000000            ...                   0.000000   \n",
       "25%           0.000000            ...                   0.329412   \n",
       "50%           0.000000            ...                   1.000000   \n",
       "75%           0.000000            ...                   1.000000   \n",
       "max           1.000000            ...                   1.000000   \n",
       "\n",
       "       dst_host_srv_count  dst_host_same_srv_rate  dst_host_diff_srv_rate  \\\n",
       "count        25192.000000            25192.000000            25192.000000   \n",
       "mean             0.451228                0.519791                0.082539   \n",
       "std              0.433909                0.448944                0.187191   \n",
       "min              0.000000                0.000000                0.000000   \n",
       "25%              0.039216                0.050000                0.000000   \n",
       "50%              0.239216                0.510000                0.030000   \n",
       "75%              1.000000                1.000000                0.070000   \n",
       "max              1.000000                1.000000                1.000000   \n",
       "\n",
       "       dst_host_same_src_port_rate  dst_host_srv_diff_host_rate  \\\n",
       "count                 25192.000000                 25192.000000   \n",
       "mean                      0.147453                     0.031844   \n",
       "std                       0.308367                     0.110575   \n",
       "min                       0.000000                     0.000000   \n",
       "25%                       0.000000                     0.000000   \n",
       "50%                       0.000000                     0.000000   \n",
       "75%                       0.060000                     0.020000   \n",
       "max                       1.000000                     1.000000   \n",
       "\n",
       "       dst_host_serror_rate  dst_host_srv_serror_rate  dst_host_rerror_rate  \\\n",
       "count          25192.000000              25192.000000          25192.000000   \n",
       "mean               0.285800                  0.279846              0.117800   \n",
       "std                0.445316                  0.446075              0.305869   \n",
       "min                0.000000                  0.000000              0.000000   \n",
       "25%                0.000000                  0.000000              0.000000   \n",
       "50%                0.000000                  0.000000              0.000000   \n",
       "75%                1.000000                  1.000000              0.000000   \n",
       "max                1.000000                  1.000000              1.000000   \n",
       "\n",
       "       dst_host_srv_rerror_rate  \n",
       "count              25192.000000  \n",
       "mean                   0.118769  \n",
       "std                    0.317333  \n",
       "min                    0.000000  \n",
       "25%                    0.000000  \n",
       "50%                    0.000000  \n",
       "75%                    0.000000  \n",
       "max                    1.000000  \n",
       "\n",
       "[8 rows x 38 columns]"
      ]
     },
     "execution_count": 114,
     "metadata": {},
     "output_type": "execute_result"
    }
   ],
   "source": [
    "scaled.describe()"
   ]
  },
  {
   "cell_type": "code",
   "execution_count": 115,
   "metadata": {
    "collapsed": true
   },
   "outputs": [],
   "source": [
    "clf = KNeighborsClassifier(n_neighbors = 5, algorithm = 'ball_tree', leaf_size = 500)"
   ]
  },
  {
   "cell_type": "code",
   "execution_count": 116,
   "metadata": {},
   "outputs": [
    {
     "data": {
      "text/plain": [
       "KNeighborsClassifier(algorithm='ball_tree', leaf_size=500, metric='minkowski',\n",
       "           metric_params=None, n_jobs=1, n_neighbors=5, p=2,\n",
       "           weights='uniform')"
      ]
     },
     "execution_count": 116,
     "metadata": {},
     "output_type": "execute_result"
    }
   ],
   "source": [
    "clf.fit(scaled, labels)"
   ]
  },
  {
   "cell_type": "code",
   "execution_count": 404,
   "metadata": {},
   "outputs": [],
   "source": [
    "kdd_test = pd.read_csv(\"kdd_test.csv\", header = None, names = cols)\n",
    "#kdd_test"
   ]
  },
  {
   "cell_type": "code",
   "execution_count": 405,
   "metadata": {},
   "outputs": [
    {
     "data": {
      "text/plain": [
       "normal             9710\n",
       "neptune            4657\n",
       "guess_passwd       1231\n",
       "mscan               996\n",
       "warezmaster         944\n",
       "apache2             737\n",
       "satan               735\n",
       "processtable        685\n",
       "smurf               665\n",
       "back                359\n",
       "snmpguess           331\n",
       "saint               319\n",
       "mailbomb            293\n",
       "snmpgetattack       178\n",
       "portsweep           157\n",
       "ipsweep             141\n",
       "httptunnel          133\n",
       "nmap                 73\n",
       "pod                  41\n",
       "buffer_overflow      20\n",
       "multihop             18\n",
       "named                17\n",
       "ps                   15\n",
       "sendmail             14\n",
       "xterm                13\n",
       "rootkit              13\n",
       "teardrop             12\n",
       "xlock                 9\n",
       "land                  7\n",
       "xsnoop                4\n",
       "ftp_write             3\n",
       "udpstorm              2\n",
       "perl                  2\n",
       "loadmodule            2\n",
       "worm                  2\n",
       "phf                   2\n",
       "sqlattack             2\n",
       "imap                  1\n",
       "Name: label, dtype: int64"
      ]
     },
     "execution_count": 405,
     "metadata": {},
     "output_type": "execute_result"
    }
   ],
   "source": [
    "kdd_test['label'].value_counts()"
   ]
  },
  {
   "cell_type": "code",
   "execution_count": 119,
   "metadata": {
    "collapsed": true
   },
   "outputs": [],
   "source": [
    "kdd_test[all_features] = kdd_test[all_features].astype(float)"
   ]
  },
  {
   "cell_type": "code",
   "execution_count": 120,
   "metadata": {},
   "outputs": [
    {
     "name": "stderr",
     "output_type": "stream",
     "text": [
      "C:\\la\\lib\\site-packages\\ipykernel_launcher.py:1: SettingWithCopyWarning: \n",
      "A value is trying to be set on a copy of a slice from a DataFrame\n",
      "\n",
      "See the caveats in the documentation: http://pandas.pydata.org/pandas-docs/stable/indexing.html#indexing-view-versus-copy\n",
      "  \"\"\"Entry point for launching an IPython kernel.\n"
     ]
    }
   ],
   "source": [
    "kdd_test['label'][kdd_test['label']!= 'normal'] = 'intrusion'"
   ]
  },
  {
   "cell_type": "code",
   "execution_count": 121,
   "metadata": {},
   "outputs": [
    {
     "data": {
      "text/plain": [
       "intrusion    12833\n",
       "normal        9710\n",
       "Name: label, dtype: int64"
      ]
     },
     "execution_count": 121,
     "metadata": {},
     "output_type": "execute_result"
    }
   ],
   "source": [
    "kdd_test['label'].value_counts()"
   ]
  },
  {
   "cell_type": "code",
   "execution_count": 122,
   "metadata": {
    "collapsed": true
   },
   "outputs": [],
   "source": [
    "from sklearn import cross_validation"
   ]
  },
  {
   "cell_type": "code",
   "execution_count": 123,
   "metadata": {
    "collapsed": true
   },
   "outputs": [],
   "source": [
    "from sklearn.model_selection import train_test_split"
   ]
  },
  {
   "cell_type": "code",
   "execution_count": 437,
   "metadata": {},
   "outputs": [],
   "source": [
    "#kdd_test[all_features].apply(lambda x: MinMaxScaler().fit_transform(x))"
   ]
  },
  {
   "cell_type": "code",
   "execution_count": 125,
   "metadata": {
    "collapsed": true
   },
   "outputs": [],
   "source": [
    "features_train, features_test, labels_train, labels_test = train_test_split(\n",
    "    kdd_test[all_features], kdd_test['label'], test_size = 0.1, random_state = 42)"
   ]
  },
  {
   "cell_type": "code",
   "execution_count": 126,
   "metadata": {
    "collapsed": true
   },
   "outputs": [],
   "source": [
    "pred = clf.predict(features_test)"
   ]
  },
  {
   "cell_type": "code",
   "execution_count": 127,
   "metadata": {
    "collapsed": true
   },
   "outputs": [],
   "source": [
    "from sklearn.metrics import accuracy_score\n"
   ]
  },
  {
   "cell_type": "code",
   "execution_count": 128,
   "metadata": {
    "collapsed": true
   },
   "outputs": [],
   "source": [
    "accuracy = accuracy_score(pred, labels_test)"
   ]
  },
  {
   "cell_type": "code",
   "execution_count": 129,
   "metadata": {},
   "outputs": [
    {
     "data": {
      "text/plain": [
       "0.56053215077605323"
      ]
     },
     "execution_count": 129,
     "metadata": {},
     "output_type": "execute_result"
    }
   ],
   "source": [
    "accuracy"
   ]
  },
  {
   "cell_type": "code",
   "execution_count": 406,
   "metadata": {
    "collapsed": true
   },
   "outputs": [],
   "source": [
    "#######################################################################################################################"
   ]
  },
  {
   "cell_type": "code",
   "execution_count": 407,
   "metadata": {
    "collapsed": true
   },
   "outputs": [],
   "source": [
    "from sklearn.cluster import KMeans"
   ]
  },
  {
   "cell_type": "code",
   "execution_count": 415,
   "metadata": {
    "collapsed": true
   },
   "outputs": [],
   "source": [
    "num = 20\n",
    "k = KMeans(n_clusters = num)"
   ]
  },
  {
   "cell_type": "code",
   "execution_count": 416,
   "metadata": {},
   "outputs": [
    {
     "data": {
      "text/plain": [
       "KMeans(algorithm='auto', copy_x=True, init='k-means++', max_iter=300,\n",
       "    n_clusters=20, n_init=10, n_jobs=1, precompute_distances='auto',\n",
       "    random_state=None, tol=0.0001, verbose=0)"
      ]
     },
     "execution_count": 416,
     "metadata": {},
     "output_type": "execute_result"
    }
   ],
   "source": [
    "k.fit(to_be_scaled)"
   ]
  },
  {
   "cell_type": "code",
   "execution_count": 434,
   "metadata": {},
   "outputs": [],
   "source": [
    "labels = kdd_test['label']\n"
   ]
  },
  {
   "cell_type": "code",
   "execution_count": 435,
   "metadata": {},
   "outputs": [],
   "source": [
    "#label_names = list(map(\n",
    "#    lambda x: pd.Series([labels[i] for i in range(len(k.labels_)) if k.labels_[i]==x]), \n",
    "#    range(num)))"
   ]
  },
  {
   "cell_type": "code",
   "execution_count": 436,
   "metadata": {},
   "outputs": [],
   "source": []
  },
  {
   "cell_type": "code",
   "execution_count": null,
   "metadata": {
    "collapsed": true
   },
   "outputs": [],
   "source": []
  }
 ],
 "metadata": {
  "kernelspec": {
   "display_name": "Python 3",
   "language": "python",
   "name": "python3"
  },
  "language_info": {
   "codemirror_mode": {
    "name": "ipython",
    "version": 3
   },
   "file_extension": ".py",
   "mimetype": "text/x-python",
   "name": "python",
   "nbconvert_exporter": "python",
   "pygments_lexer": "ipython3",
   "version": "3.6.1"
  }
 },
 "nbformat": 4,
 "nbformat_minor": 2
}
